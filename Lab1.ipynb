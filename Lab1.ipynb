{
 "cells": [
  {
   "cell_type": "code",
   "execution_count": 15,
   "id": "baa0b281",
   "metadata": {},
   "outputs": [],
   "source": [
    "import cv2 as cv\n",
    "import numpy as np\n",
    "from matplotlib import pyplot as plt\n",
    "import gradio as gr\n",
    "\n",
    "def read_image(image_path):\n",
    "    # Convert to string if it's not already\n",
    "    image_path = str(image_path)\n",
    "    \n",
    "    # Read an image\n",
    "    image = cv.imread(image_path)\n",
    "    \n",
    "    return image"
   ]
  },
  {
   "cell_type": "code",
   "execution_count": 16,
   "id": "1a5c1526",
   "metadata": {},
   "outputs": [],
   "source": [
    "def convert_to_rgb(image):\n",
    "    # Convert BGR to RGB\n",
    "    return cv.cvtColor(image, cv.COLOR_BGR2RGB)"
   ]
  },
  {
   "cell_type": "code",
   "execution_count": 17,
   "id": "2b667f16",
   "metadata": {},
   "outputs": [],
   "source": [
    "def convert_to_grayscale(image):\n",
    "    # Convert to grayscale\n",
    "    return cv.cvtColor(image, cv.COLOR_BGR2GRAY)"
   ]
  },
  {
   "cell_type": "code",
   "execution_count": 18,
   "id": "9c69c615",
   "metadata": {},
   "outputs": [],
   "source": [
    "def apply_adaptive_threshold(gray_image):\n",
    "    # Apply adaptive thresholding\n",
    "    return cv.adaptiveThreshold(gray_image, 255, cv.ADAPTIVE_THRESH_GAUSSIAN_C, cv.THRESH_BINARY, 11, 2)"
   ]
  },
  {
   "cell_type": "code",
   "execution_count": 19,
   "id": "95c7ab24",
   "metadata": {},
   "outputs": [],
   "source": [
    "def apply_canny_edge_detection(gray_image):\n",
    "    # Apply Canny Edge Detection\n",
    "    return cv.Canny(gray_image, 100, 150)"
   ]
  },
  {
   "cell_type": "code",
   "execution_count": 20,
   "id": "a22d8f71",
   "metadata": {},
   "outputs": [],
   "source": [
    "def dilate_edges(edges):\n",
    "    # Dilate the edges to emphasize larger features\n",
    "    return cv.dilate(edges, None, iterations=2)"
   ]
  },
  {
   "cell_type": "code",
   "execution_count": 21,
   "id": "2f85ae03",
   "metadata": {},
   "outputs": [],
   "source": [
    "def invert_edges(edges):\n",
    "    # Invert the edges\n",
    "    return cv.bitwise_not(edges)"
   ]
  },
  {
   "cell_type": "code",
   "execution_count": 22,
   "id": "4c63fff8",
   "metadata": {},
   "outputs": [],
   "source": [
    "def combine_masks(adaptive_threshold, inverted_edges):\n",
    "    # Combine the masks\n",
    "    return cv.bitwise_and(adaptive_threshold, inverted_edges)"
   ]
  },
  {
   "cell_type": "code",
   "execution_count": 23,
   "id": "82868f5f",
   "metadata": {},
   "outputs": [],
   "source": [
    "def apply_morphological_operations(combined_mask):\n",
    "    # Morphological operations\n",
    "    morpho_kernel = cv.getStructuringElement(cv.MORPH_ELLIPSE, (14, 14))\n",
    "    return cv.morphologyEx(combined_mask, cv.MORPH_OPEN, morpho_kernel)\n"
   ]
  },
  {
   "cell_type": "code",
   "execution_count": 24,
   "id": "4650090d",
   "metadata": {},
   "outputs": [],
   "source": [
    "def post_process_mask(mask_morpho):\n",
    "    # Additional morphological operations for post-processing\n",
    "    morpho_kernel = cv.getStructuringElement(cv.MORPH_ELLIPSE, (14, 14))\n",
    "    return cv.morphologyEx(mask_morpho, cv.MORPH_CLOSE, morpho_kernel)\n"
   ]
  },
  {
   "cell_type": "code",
   "execution_count": 25,
   "id": "da620066",
   "metadata": {},
   "outputs": [],
   "source": [
    "def make_sky_white(image, post_processed_mask):\n",
    "    # Create a new image with the same shape and size as the original one\n",
    "    white_sky = np.zeros(image.shape, dtype=np.uint8)\n",
    "    \n",
    "    # Make the sky white\n",
    "    white_sky[post_processed_mask == 255] = [255, 255, 255]\n",
    "    \n",
    "    return white_sky"
   ]
  },
  {
   "cell_type": "code",
   "execution_count": 26,
   "id": "2175977a",
   "metadata": {},
   "outputs": [],
   "source": [
    "def merge_images(image, white_sky):\n",
    "    # Merge two images\n",
    "    result_image_bgr = cv.add(image, white_sky)\n",
    "    return cv.cvtColor(result_image_bgr, cv.COLOR_BGR2RGB)"
   ]
  },
  {
   "cell_type": "code",
   "execution_count": 27,
   "id": "a4e738bc",
   "metadata": {},
   "outputs": [],
   "source": [
    "def process_image(image_path):\n",
    "    # Read an image\n",
    "    image = read_image(image_path)\n",
    "    if image is None:\n",
    "        return None\n",
    "    \n",
    "    # Convert BGR to RGB\n",
    "    image_rgb = convert_to_rgb(image)\n",
    "    \n",
    "    # Convert to grayscale\n",
    "    gray_image = convert_to_grayscale(image)\n",
    "    \n",
    "    # Apply adaptive thresholding\n",
    "    adaptive_threshold = apply_adaptive_threshold(gray_image)\n",
    "    \n",
    "    # Apply Canny Edge Detection\n",
    "    edges = apply_canny_edge_detection(gray_image)\n",
    "    \n",
    "    # Dilate edges\n",
    "    dilated_edges = dilate_edges(edges)\n",
    "    \n",
    "    # Invert edges\n",
    "    inverted_dilated_edges = invert_edges(dilated_edges)\n",
    "    \n",
    "    # Combine masks\n",
    "    combined_mask = combine_masks(adaptive_threshold, inverted_dilated_edges)\n",
    "    \n",
    "    # Morphological operations\n",
    "    mask_morpho = apply_morphological_operations(combined_mask)\n",
    "    \n",
    "    # Post-processing\n",
    "    post_processed_mask = post_process_mask(mask_morpho)\n",
    "    \n",
    "    # Make sky white\n",
    "    white_sky = make_sky_white(image, post_processed_mask)\n",
    "    \n",
    "    # Merge images\n",
    "    result_image = merge_images(image, white_sky)\n",
    "    \n",
    "    return result_image"
   ]
  },
  {
   "cell_type": "code",
   "execution_count": 28,
   "id": "979d1cff",
   "metadata": {},
   "outputs": [
    {
     "name": "stdout",
     "output_type": "stream",
     "text": [
      "Running on local URL:  http://127.0.0.1:7861\n",
      "\n",
      "To create a public link, set `share=True` in `launch()`.\n"
     ]
    },
    {
     "data": {
      "text/html": [
       "<div><iframe src=\"http://127.0.0.1:7861/\" width=\"100%\" height=\"500\" allow=\"autoplay; camera; microphone; clipboard-read; clipboard-write;\" frameborder=\"0\" allowfullscreen></iframe></div>"
      ],
      "text/plain": [
       "<IPython.core.display.HTML object>"
      ]
     },
     "metadata": {},
     "output_type": "display_data"
    },
    {
     "data": {
      "text/plain": []
     },
     "execution_count": 28,
     "metadata": {},
     "output_type": "execute_result"
    }
   ],
   "source": [
    "# Create a Gradio interface\n",
    "iface = gr.Interface(\n",
    "    fn=process_image,\n",
    "    inputs= gr.Image(type='filepath'),\n",
    "    outputs='image',\n",
    "    live=True,\n",
    "    title='Sky Identification',\n",
    "    examples=[\"./pics/pic1.jpg\", \"./pics/pic12.jpg\", \"./pics/pic9.jpg\", \"./pics/pic18.jpg\"]\n",
    ")\n",
    "\n",
    "# Launch the interface\n",
    "iface.launch()"
   ]
  }
 ],
 "metadata": {
  "kernelspec": {
   "display_name": "Python 3 (ipykernel)",
   "language": "python",
   "name": "python3"
  },
  "language_info": {
   "codemirror_mode": {
    "name": "ipython",
    "version": 3
   },
   "file_extension": ".py",
   "mimetype": "text/x-python",
   "name": "python",
   "nbconvert_exporter": "python",
   "pygments_lexer": "ipython3",
   "version": "3.11.5"
  }
 },
 "nbformat": 4,
 "nbformat_minor": 5
}
